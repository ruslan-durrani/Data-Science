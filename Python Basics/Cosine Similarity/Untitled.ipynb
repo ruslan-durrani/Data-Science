{
 "cells": [
  {
   "cell_type": "code",
   "execution_count": 129,
   "id": "f2111714",
   "metadata": {},
   "outputs": [],
   "source": [
    "from sklearn.metrics.pairwise import cosine_similarity,cosine_distances"
   ]
  },
  {
   "cell_type": "code",
   "execution_count": 130,
   "id": "e3f5c58a",
   "metadata": {},
   "outputs": [
    {
     "data": {
      "text/plain": [
       "array([[1.]])"
      ]
     },
     "execution_count": 130,
     "metadata": {},
     "output_type": "execute_result"
    }
   ],
   "source": [
    "cosine_similarity([[20,10]],[[40,20]])"
   ]
  },
  {
   "cell_type": "code",
   "execution_count": 131,
   "id": "0f84547e",
   "metadata": {},
   "outputs": [
    {
     "data": {
      "text/plain": [
       "array([[1.11022302e-16]])"
      ]
     },
     "execution_count": 131,
     "metadata": {},
     "output_type": "execute_result"
    }
   ],
   "source": [
    "cosine_distances([[20,10]],[[40,20]])"
   ]
  },
  {
   "cell_type": "code",
   "execution_count": 132,
   "id": "eea2d00d",
   "metadata": {},
   "outputs": [
    {
     "data": {
      "text/plain": [
       "array([[0.97618706]])"
      ]
     },
     "execution_count": 132,
     "metadata": {},
     "output_type": "execute_result"
    }
   ],
   "source": [
    "cosine_similarity([[20,10]],[[40,10]])"
   ]
  },
  {
   "cell_type": "code",
   "execution_count": 133,
   "id": "23ecb7f9",
   "metadata": {},
   "outputs": [
    {
     "data": {
      "text/plain": [
       "array([[0.02381294]])"
      ]
     },
     "execution_count": 133,
     "metadata": {},
     "output_type": "execute_result"
    }
   ],
   "source": [
    "cosine_distances([[20,10]],[[40,10]])"
   ]
  },
  {
   "cell_type": "code",
   "execution_count": 134,
   "id": "99e22fb7",
   "metadata": {},
   "outputs": [],
   "source": [
    "doc1 = \"\"\"\n",
    "iphone sales contributed to 70% of revenue. iphone demand is increasing by 20% yoy. \n",
    "the main competitor phone galaxy recorded 5% less growth compared to iphone\"\n",
    "\"\"\"\n",
    "\n",
    "doc2 = \"\"\"\n",
    "The upside pressure on volumes for the iPhone 12 series, historical outperformance \n",
    "in the July-September time period heading into launch event, and further catalysts in relation\n",
    "to outperformance for iPhone 13 volumes relative to lowered investor expectations implies a \n",
    "very attractive set up for the shares.\n",
    "\"\"\"\n",
    "\n",
    "doc3 = \"\"\"\n",
    "samsung's flagship product galaxy is able to penetrate more into asian markets compared to\n",
    "iphone. galaxy is redesigned with new look that appeals young demographics. 60% of samsung revenues\n",
    "are coming from galaxy phone sales\n",
    "\"\"\"\n",
    "\n",
    "doc4 = \"\"\"\n",
    "Samsung Electronics unveils its Galaxy S21 flagship, with modest spec improvements \n",
    "and a significantly lower price point. Galaxy S21 price is lower by ~20% (much like the iPhone 12A), \n",
    "which highlights Samsung's focus on boosting shipments and regaining market share.\n",
    "\"\"\""
   ]
  },
  {
   "cell_type": "code",
   "execution_count": 137,
   "id": "45e117ba",
   "metadata": {},
   "outputs": [
    {
     "ename": "AttributeError",
     "evalue": "'str' object has no attribute 'toLower'",
     "output_type": "error",
     "traceback": [
      "\u001b[0;31m---------------------------------------------------------------------------\u001b[0m",
      "\u001b[0;31mAttributeError\u001b[0m                            Traceback (most recent call last)",
      "Cell \u001b[0;32mIn[137], line 1\u001b[0m\n\u001b[0;32m----> 1\u001b[0m doc1 \u001b[38;5;241m=\u001b[39m doc1\u001b[38;5;241m.\u001b[39mtoLower()\u001b[38;5;241m.\u001b[39msplit()\n\u001b[1;32m      2\u001b[0m doc_list_classical_data \u001b[38;5;241m=\u001b[39m [\n\u001b[1;32m      3\u001b[0m     {\n\u001b[1;32m      4\u001b[0m         \u001b[38;5;124m\"\u001b[39m\u001b[38;5;124miphone\u001b[39m\u001b[38;5;124m\"\u001b[39m: doc1\u001b[38;5;241m.\u001b[39mcount(\u001b[38;5;124m\"\u001b[39m\u001b[38;5;124miphone\u001b[39m\u001b[38;5;124m\"\u001b[39m),\n\u001b[0;32m   (...)\u001b[0m\n\u001b[1;32m     18\u001b[0m     }\n\u001b[1;32m     19\u001b[0m ]\n\u001b[1;32m     20\u001b[0m doc_list_classical_data\n",
      "\u001b[0;31mAttributeError\u001b[0m: 'str' object has no attribute 'toLower'"
     ]
    }
   ],
   "source": [
    "doc1 = doc1.toLower().split()\n",
    "doc_list_classical_data = [\n",
    "    {\n",
    "        \"iphone\": doc1.count(\"iphone\"),\n",
    "        \"galaxy\": doc1.count(\"galaxy\"),\n",
    "    },\n",
    "    {\n",
    "        \"iphone\": doc2.count(\"iphone\"),\n",
    "        \"galaxy\": doc2.count(\"galaxy\"),\n",
    "    },\n",
    "    {\n",
    "        \"iphone\": doc3.count(\"iphone\"),\n",
    "        \"galaxy\": doc3.count(\"galaxy\"),\n",
    "    },\n",
    "    {\n",
    "        \"iphone\": doc4.count(\"iphone\"),\n",
    "        \"galaxy\": doc4.count(\"galaxy\"),\n",
    "    }\n",
    "]\n",
    "doc_list_classical_data"
   ]
  },
  {
   "cell_type": "code",
   "execution_count": null,
   "id": "d7d35b08",
   "metadata": {},
   "outputs": [],
   "source": []
  },
  {
   "cell_type": "code",
   "execution_count": null,
   "id": "dd3ebae6",
   "metadata": {},
   "outputs": [],
   "source": []
  }
 ],
 "metadata": {
  "kernelspec": {
   "display_name": "Python 3 (ipykernel)",
   "language": "python",
   "name": "python3"
  },
  "language_info": {
   "codemirror_mode": {
    "name": "ipython",
    "version": 3
   },
   "file_extension": ".py",
   "mimetype": "text/x-python",
   "name": "python",
   "nbconvert_exporter": "python",
   "pygments_lexer": "ipython3",
   "version": "3.11.4"
  }
 },
 "nbformat": 4,
 "nbformat_minor": 5
}
