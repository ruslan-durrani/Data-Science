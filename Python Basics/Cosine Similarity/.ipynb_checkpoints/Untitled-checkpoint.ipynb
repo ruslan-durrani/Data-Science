{
 "cells": [
  {
   "cell_type": "code",
   "execution_count": 82,
   "id": "555a067c",
   "metadata": {},
   "outputs": [],
   "source": [
    "from sklearn.metrics.pairwise import cosine_similarity,cosine_distances"
   ]
  },
  {
   "cell_type": "code",
   "execution_count": 83,
   "id": "a6b3b79b",
   "metadata": {},
   "outputs": [
    {
     "data": {
      "text/plain": [
       "array([[1.]])"
      ]
     },
     "execution_count": 83,
     "metadata": {},
     "output_type": "execute_result"
    }
   ],
   "source": [
    "cosine_similarity([[20,10]],[[40,20]])"
   ]
  },
  {
   "cell_type": "code",
   "execution_count": 84,
   "id": "41d97af6",
   "metadata": {},
   "outputs": [
    {
     "data": {
      "text/plain": [
       "array([[1.11022302e-16]])"
      ]
     },
     "execution_count": 84,
     "metadata": {},
     "output_type": "execute_result"
    }
   ],
   "source": [
    "cosine_distances([[20,10]],[[40,20]])"
   ]
  },
  {
   "cell_type": "code",
   "execution_count": 85,
   "id": "06568f92",
   "metadata": {},
   "outputs": [
    {
     "data": {
      "text/plain": [
       "array([[0.97618706]])"
      ]
     },
     "execution_count": 85,
     "metadata": {},
     "output_type": "execute_result"
    }
   ],
   "source": [
    "cosine_similarity([[20,10]],[[40,10]])"
   ]
  },
  {
   "cell_type": "code",
   "execution_count": 86,
   "id": "e8694cf7",
   "metadata": {},
   "outputs": [
    {
     "data": {
      "text/plain": [
       "array([[0.02381294]])"
      ]
     },
     "execution_count": 86,
     "metadata": {},
     "output_type": "execute_result"
    }
   ],
   "source": [
    "cosine_distances([[20,10]],[[40,10]])"
   ]
  },
  {
   "cell_type": "code",
   "execution_count": 87,
   "id": "b233f50f",
   "metadata": {},
   "outputs": [],
   "source": [
    "doc1 = \"\"\"\n",
    "iphone sales contributed to 70% of revenue. iphone demand is increasing by 20% yoy. \n",
    "the main competitor phone galaxy recorded 5% less growth compared to iphone\"\n",
    "\"\"\"\n",
    "\n",
    "doc2 = \"\"\"\n",
    "The upside pressure on volumes for the iPhone 12 series, historical outperformance \n",
    "in the July-September time period heading into launch event, and further catalysts in relation\n",
    "to outperformance for iPhone 13 volumes relative to lowered investor expectations implies a \n",
    "very attractive set up for the shares.\n",
    "\"\"\"\n",
    "\n",
    "doc3 = \"\"\"\n",
    "samsung's flagship product galaxy is able to penetrate more into asian markets compared to\n",
    "iphone. galaxy is redesigned with new look that appeals young demographics. 60% of samsung revenues\n",
    "are coming from galaxy phone sales\n",
    "\"\"\"\n",
    "\n",
    "doc4 = \"\"\"\n",
    "Samsung Electronics unveils its Galaxy S21 flagship, with modest spec improvements \n",
    "and a significantly lower price point. Galaxy S21 price is lower by ~20% (much like the iPhone 12A), \n",
    "which highlights Samsung's focus on boosting shipments and regaining market share.\n",
    "\"\"\""
   ]
  },
  {
   "cell_type": "code",
   "execution_count": 88,
   "id": "3c817172",
   "metadata": {},
   "outputs": [
    {
     "data": {
      "text/plain": [
       "1"
      ]
     },
     "execution_count": 88,
     "metadata": {},
     "output_type": "execute_result"
    }
   ],
   "source": [
    "doc1 = doc1.split()\n",
    "doc_list_classical_data = list(dict())\n",
    "doc1.count(\"iphone\")\n",
    "# doc1.count(\"galaxy\")\n",
    "# for word in doc1:\n",
    "#     if(word.capitalize() ==\"IPHONE\"):\n",
    "#         doc_list_classical_data.add(\n",
    "#         {\n",
    "            \n",
    "#         }\n",
    "#         )"
   ]
  },
  {
   "cell_type": "code",
   "execution_count": null,
   "id": "3faf2296",
   "metadata": {},
   "outputs": [],
   "source": []
  },
  {
   "cell_type": "code",
   "execution_count": null,
   "id": "b7174538",
   "metadata": {},
   "outputs": [],
   "source": []
  },
  {
   "cell_type": "code",
   "execution_count": null,
   "id": "10ff778a",
   "metadata": {},
   "outputs": [],
   "source": []
  },
  {
   "cell_type": "code",
   "execution_count": null,
   "id": "931d88ec",
   "metadata": {},
   "outputs": [],
   "source": []
  },
  {
   "cell_type": "code",
   "execution_count": null,
   "id": "01636d26",
   "metadata": {},
   "outputs": [],
   "source": []
  },
  {
   "cell_type": "code",
   "execution_count": null,
   "id": "9bd556d6",
   "metadata": {},
   "outputs": [],
   "source": []
  },
  {
   "cell_type": "code",
   "execution_count": null,
   "id": "c0204dae",
   "metadata": {},
   "outputs": [],
   "source": []
  },
  {
   "cell_type": "code",
   "execution_count": null,
   "id": "2349a17f",
   "metadata": {},
   "outputs": [],
   "source": []
  }
 ],
 "metadata": {
  "kernelspec": {
   "display_name": "Python 3 (ipykernel)",
   "language": "python",
   "name": "python3"
  },
  "language_info": {
   "codemirror_mode": {
    "name": "ipython",
    "version": 3
   },
   "file_extension": ".py",
   "mimetype": "text/x-python",
   "name": "python",
   "nbconvert_exporter": "python",
   "pygments_lexer": "ipython3",
   "version": "3.11.4"
  }
 },
 "nbformat": 4,
 "nbformat_minor": 5
}
